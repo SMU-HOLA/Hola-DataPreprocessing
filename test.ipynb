{
 "cells": [
  {
   "cell_type": "code",
   "execution_count": 21,
   "metadata": {},
   "outputs": [
    {
     "name": "stdout",
     "output_type": "stream",
     "text": [
      "<a href=\"/webtoon/detail?titleId=641253&amp;no=386\" onclick=\"nclk_v2(event,'rnk*p.cont','641253','1')\" title=\"외모지상주의-386화 일해회 (2계열사) [15]\">외모지상주의-386화 일해회 (2계열사) [15]</a>\n"
     ]
    }
   ],
   "source": [
    "import requests\n",
    "from bs4 import BeautifulSoup\n",
    "\n",
    "url = \"https://comic.naver.com/webtoon/weekday\"\n",
    "res = requests.get(url)\n",
    "#res.raise_for_status\n",
    "\n",
    "soup = BeautifulSoup(res.text,\"lxml\")\n",
    "#print(soup.title)\n",
    "#print(soup.title.get_text())\n",
    "#print(soup.a.attrs)\n",
    "\n",
    "#rank1 = soup.find(\"li\", attrs={\"class\":\"rank01\"})\n",
    "#print(rank1.a.get_text())\n",
    "#print(rank1.next_sibling.next_sibling)\n",
    "#rank2 = rank1.find_next_sibling(\"li\")\n",
    "#print(rank2.a.get_text())\n",
    "#print(rank1.find_next_siblings(\"li\"))\n",
    "webtoon = soup.find(\"a\", text=\"외모지상주의-386화 일해회 (2계열사) [15]\")\n",
    "print(webtoon)\n"
   ]
  },
  {
   "cell_type": "code",
   "execution_count": null,
   "metadata": {},
   "outputs": [],
   "source": []
  }
 ],
 "metadata": {
  "interpreter": {
   "hash": "31f2aee4e71d21fbe5cf8b01ff0e069b9275f58929596ceb00d14d90e3e16cd6"
  },
  "kernelspec": {
   "display_name": "Python 3.8.9 64-bit",
   "language": "python",
   "name": "python3"
  },
  "language_info": {
   "codemirror_mode": {
    "name": "ipython",
    "version": 3
   },
   "file_extension": ".py",
   "mimetype": "text/x-python",
   "name": "python",
   "nbconvert_exporter": "python",
   "pygments_lexer": "ipython3",
   "version": "3.8.9"
  },
  "orig_nbformat": 4
 },
 "nbformat": 4,
 "nbformat_minor": 2
}
