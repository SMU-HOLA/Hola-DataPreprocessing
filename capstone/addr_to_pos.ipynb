{
 "cells": [
  {
   "cell_type": "code",
   "execution_count": 20,
   "id": "c7d0ddd5",
   "metadata": {},
   "outputs": [],
   "source": [
    "import json\n",
    "import requests\n",
    "import pandas as pd\n",
    "APP_KEY = 'c113241066618b00d323967d63f5df37' \n",
    "\n",
    "def addr_to_lat_lon(addr):\n",
    "    url = 'https://dapi.kakao.com/v2/local/search/address.json?query={address}'.format(address=addr)\n",
    "    headers = {\"Authorization\": \"KakaoAK \" + APP_KEY}\n",
    "    result = json.loads(str(requests.get(url, headers=headers).text))\n",
    "    \n",
    "    # result['documents'][0]['address']가 인덱스 범위를 벗어나는 경우 예외처리\n",
    "    try:\n",
    "        match_first = result['documents'][0]['address']\n",
    "    except:\n",
    "        return float(0), float(0)\n",
    "    \n",
    "    return float(match_first['x']), float(match_first['y'])\n"
   ]
  },
  {
   "cell_type": "code",
   "execution_count": 23,
   "id": "2798c765",
   "metadata": {},
   "outputs": [
    {
     "name": "stdout",
     "output_type": "stream",
     "text": [
      "Success\n"
     ]
    }
   ],
   "source": [
    "file = '/Users/gitak/Documents/capstone/복지/seoul_police.csv'\n",
    "\n",
    "\n",
    "df = pd.read_csv(file,usecols=['경찰서','관서명','구분','주소'], encoding='cp949') \n",
    "\n",
    "\n",
    "for i in range(len(df)):\n",
    "    lat, lon = addr_to_lat_lon(df.loc[i,\"주소\"])\n",
    "    \n",
    "    df.loc[i,'경찰서 위도'] = lat\n",
    "    df.loc[i,'경찰서 경도'] = lon\n",
    "\n",
    "    \n",
    "print('Success')    \n",
    "df.to_csv('/Users/gitak/Documents/capstone/복지/seoul_police_pos.csv', encoding = 'cp949')\n",
    "    \n"
   ]
  }
 ],
 "metadata": {
  "kernelspec": {
   "display_name": "Python 3 (ipykernel)",
   "language": "python",
   "name": "python3"
  },
  "language_info": {
   "codemirror_mode": {
    "name": "ipython",
    "version": 3
   },
   "file_extension": ".py",
   "mimetype": "text/x-python",
   "name": "python",
   "nbconvert_exporter": "python",
   "pygments_lexer": "ipython3",
   "version": "3.9.13"
  }
 },
 "nbformat": 4,
 "nbformat_minor": 5
}
